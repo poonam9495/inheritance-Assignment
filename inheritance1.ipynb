{
 "cells": [
  {
   "cell_type": "code",
   "execution_count": 1,
   "metadata": {},
   "outputs": [],
   "source": [
    "#1. Explain what inheritance is in object-oriented programming and why it is used.\n",
    "\n",
    "# = It is a mechanism where you can to derive a class from another class for a hierarchy of classes that share a set of attributes and methods.\n",
    "#  Inheritance is a fundamental concept of Object-Oriented Programming (OOP) that enables a new class to inherit the properties and methods of an existing class. This feature promotes code reusability and creates a parent-child relationship between classes.\n",
    "#  In inheritance, the child class acquires the properties and can access all the data members and functions defined in the parent class.\n",
    "#  Inheritance offers a simple, understandable model structure. \n",
    "#  Less development and maintenance expenses result from an inheritance.\n",
    "#  Inheritance provides several advantages including reusability, saving time and effort, data hiding, extensibility, easy understandability, and reliability. An abstract class serves as a base class that cannot be instantiated on its own but provides common functionality to derived classes.\n",
    "#  mechanism of reusing and extending existing classes without modifying them, thus producing hierarchical relationships between them. Inheritance is almost like embedding an object into a class.\n",
    "#  "
   ]
  },
  {
   "cell_type": "code",
   "execution_count": 3,
   "metadata": {},
   "outputs": [],
   "source": [
    "# 2.Discuss the concept of single inheritance and multiple inheritance, highlighting their\n",
    "# differences and advantages.\n",
    "# = Single inheritance: When a child class inherits from only one parent class, it is called single inheritance.\n",
    "# Multiple inheritance: When a child class inherits from multiple parent class, it is called multiple inheritance.\n",
    "# Single-level inheritance supports code reusability by allowing subclasses to inherit and use properties and methods from their superclass without the need to rewrite the same code.\n",
    "# In multiple inheritance,the same code can be used for multiple classes and it can be easier to debug and maintain the code. It also allows for better abstraction and flexibility in the code, since it can be extended and modified in various ways.\n",
    "# eg.of single inheritance:\n",
    "# Animal and Dog classes: In this example, the Animal class is the superclass, and the Dog class is the subclass. The Dog class inherits properties and methods from the Animal class, such as the eat() method.\n",
    "# example of multiple inheritance is a class that inherits from both a \"Vehicle\" class and an \"Electricity-Powered\" class, to create a new class called \"Electric Vehicle\". This class would have access to both the properties and methods of its parent classes.\n",
    "# "
   ]
  },
  {
   "cell_type": "code",
   "execution_count": 5,
   "metadata": {},
   "outputs": [],
   "source": [
    "# 3.Explain the terms \"base class\" and \"derived class\" in the context of inheritance.\n",
    "# = A base class is an existing class from which the other classes are derived and inherit the methods and properties. A derived class is a class that is constructed from a base class or an existing class. 2. Base class can't acquire the methods and properties of the derived class.\n",
    "#   Parent class is the class being inherited from, also called base class. \n",
    "#   Child class is the class that inherits from another class, also called derived class.\n",
    "#   The primary purpose behind using class inheritance are code reuse, establishing a clear hierarchy, and facilitating the development and maintenance of complex software systems, including those in data science.\n",
    "#   \n",
    "\n"
   ]
  },
  {
   "cell_type": "code",
   "execution_count": 4,
   "metadata": {},
   "outputs": [],
   "source": [
    "# 4.What is the significance of the \"protected\" access modifier in inheritance? How does\n",
    "# it differ from \"private\" and \"public\" modifiers?\n",
    "# = The private keyword limits access to functions and variables to a single class. \n",
    "# When a class member is declared as public, it can be accessed from anywhere. \n",
    "# If a class member is declared as protected, it can only be accessed within the class itself and its parent and inherited classes.\n",
    "# The protected access modifier uses the inheritance level of the entity to set its accessibility to the outside world. \n",
    "# This means that we can use the protected access modifier for an entity that we want to be visible in all the classes inheriting its defining class.\n",
    "# private - members cannot be accessed (or viewed) from outside the class. protected members cannot be accessed from outside the class.\n",
    "# however they can be accessed in inherited classes.\n",
    "# public can be accessed from outside class\n",
    "# Protected members cannot be accessed from the non-child class of outside package;\n",
    "# but more accessible than the package and private modifier but less accessible than public modifier.\n",
    "# public - the property or method can be accessed from everywhere,This is default. \n",
    "# protected - the property or method can be accessed within the class and by classes derived from that class. \n",
    "# private - the property or method can ONLY be accessed within the class."
   ]
  },
  {
   "cell_type": "code",
   "execution_count": 6,
   "metadata": {},
   "outputs": [],
   "source": [
    "# 5. What is the purpose of the \"super\" keyword in inheritance? Provide an example.\n",
    "# = In Python, the super() function is used to refer to the parent class or superclass. \n",
    "# It allows you to call methods defined in the superclass from the subclass, enabling you to extend and customize the functionality inherited from the parent class.\n",
    "# In Python, the super() function is used to refer to the parent class or superclass. It allows you to call methods defined in the superclass from the subclass.\n",
    "# "
   ]
  },
  {
   "cell_type": "code",
   "execution_count": 7,
   "metadata": {},
   "outputs": [
    {
     "name": "stdout",
     "output_type": "stream",
     "text": [
      "red\n"
     ]
    }
   ],
   "source": [
    "# 5. example\n",
    "class Shape:\n",
    "    def __init__(self, color):\n",
    "        self.color = color\n",
    "\n",
    "class Square(Shape):\n",
    "    def __init__(self, color, side_length):\n",
    "        super(type(self), self).__init__(color)\n",
    "        self.side_length = side_length\n",
    "\n",
    "sq = Square(\"red\", 5)\n",
    "print(sq.color)"
   ]
  },
  {
   "cell_type": "code",
   "execution_count": null,
   "metadata": {},
   "outputs": [],
   "source": [
    "# 6. Create a base class called \"Vehicle\" with attributes like \"make\", \"model\", and \"year\".\n",
    "#Then, create a derived class called \"Car\" that inherits from \"Vehicle\" and adds an\n",
    "# attribute called \"fuel_type\". Implement appropriate methods in both classes.\n",
    "# = "
   ]
  },
  {
   "cell_type": "code",
   "execution_count": 51,
   "metadata": {},
   "outputs": [],
   "source": [
    "class Vehicle:\n",
    "    def __init__(self, make, model, year):\n",
    "        self.make = make\n",
    "        self.model = model\n",
    "        self.year = year\n",
    "    \n",
    "    def display_info(self):\n",
    "        return f\"Vehicle Info: {self.year} {self.make} {self.model}\""
   ]
  },
  {
   "cell_type": "code",
   "execution_count": 52,
   "metadata": {},
   "outputs": [],
   "source": [
    "class Car(Vehicle):\n",
    "    def __init__(self, make, model, year, fuel_type):\n",
    "        super().__init__(make, model, year)\n",
    "        self.fuel_type = fuel_type\n",
    "\n",
    "    def display_info(self):\n",
    "        base_info = super().display_info()\n",
    "        return f\"{base_info}, Fuel Type: {self.fuel_type}\""
   ]
  },
  {
   "cell_type": "code",
   "execution_count": 53,
   "metadata": {},
   "outputs": [
    {
     "name": "stdout",
     "output_type": "stream",
     "text": [
      "Vehicle Info: 2007 Audi AG, Fuel Type: Petrol\n"
     ]
    }
   ],
   "source": [
    "Car1=Car(\"Audi\",\"AG\",2007,\"Petrol\")\n",
    "print(Car1.display_info())"
   ]
  },
  {
   "cell_type": "code",
   "execution_count": 54,
   "metadata": {},
   "outputs": [],
   "source": [
    "# 7.Create a base class called \"Employee\" with attributes like \"name\" and \"salary.\"\n",
    " #Derive two classes, \"Manager\" and \"Developer,\" from \"Employee.\" Add an additional\n",
    " #attribute called \"department\" for the \"Manager\" class and \"programming_language\"\n",
    " #for the \"Developer\" class.\n"
   ]
  },
  {
   "cell_type": "code",
   "execution_count": 59,
   "metadata": {},
   "outputs": [],
   "source": [
    "class Employee:\n",
    "    def __init__(self,name,salary):\n",
    "        self.name=name\n",
    "        self.salary=salary\n",
    "        \n",
    "    def display_info(self):\n",
    "        return f\"Employee info: {self.name} {self.salary}\"\n",
    "    \n",
    "    def work(self):\n",
    "        return f\"{self.name} is working.\"    \n",
    "        \n",
    "            "
   ]
  },
  {
   "cell_type": "code",
   "execution_count": 60,
   "metadata": {},
   "outputs": [],
   "source": [
    "class Manager(Employee):\n",
    "    def __init__(self, name, salary,department):\n",
    "        super().__init__(name, salary)\n",
    "        self.department=department\n",
    "        \n",
    "    def display_info(self):\n",
    "        base_info = super().display_info()\n",
    "        return f\"{base_info}, department: {self.department}\"\n",
    "    \n",
    "    def hold_meeting(self):\n",
    "        return f\"{self.name} is holding a meeting in the {self.department} department.\"\n",
    "  \n",
    "    \n",
    "    \n",
    "class Developer(Employee):\n",
    "    def __init__(self, name, salary,programming_language):\n",
    "        super().__init__(name, salary)\n",
    "        self.programming_language=programming_language\n",
    "        \n",
    "    def display_info(self):\n",
    "        base_info = super().display_info()\n",
    "        return f\"{base_info}, programming_language: {self.programming_language}\"\n",
    "    \n",
    "    def write_code(self):\n",
    "        return f\"{self.name} is writing code in {self.programming_language}.\"  \n",
    "         "
   ]
  },
  {
   "cell_type": "code",
   "execution_count": 61,
   "metadata": {},
   "outputs": [
    {
     "name": "stdout",
     "output_type": "stream",
     "text": [
      "Employee info: Alice 50000\n",
      "Alice is working.\n"
     ]
    }
   ],
   "source": [
    "employee = Employee(\"Alice\", 50000)\n",
    "print(employee.display_info())\n",
    "print(employee.work())\n"
   ]
  },
  {
   "cell_type": "code",
   "execution_count": 62,
   "metadata": {},
   "outputs": [
    {
     "name": "stdout",
     "output_type": "stream",
     "text": [
      "Employee info: Tom 80000, department: Sales\n",
      "Tom is working.\n",
      "Tom is holding a meeting in the Sales department.\n"
     ]
    }
   ],
   "source": [
    "manager = Manager(\"Tom\", 80000, \"Sales\")\n",
    "print(manager.display_info())\n",
    "print(manager.work())\n",
    "print(manager.hold_meeting())\n"
   ]
  },
  {
   "cell_type": "code",
   "execution_count": 63,
   "metadata": {},
   "outputs": [
    {
     "name": "stdout",
     "output_type": "stream",
     "text": [
      "Employee info: Merry 70000, programming_language: Python\n",
      "Merry is working.\n",
      "Merry is writing code in Python.\n"
     ]
    }
   ],
   "source": [
    "developer = Developer(\"Merry\", 70000, \"Python\")\n",
    "print(developer.display_info())\n",
    "print(developer.work())\n",
    "print(developer.write_code())"
   ]
  },
  {
   "cell_type": "code",
   "execution_count": 1,
   "metadata": {},
   "outputs": [],
   "source": [
    "# 8. Design a base class called \"Shape\" with attributes like \"colour\" and \"border_width.\"\n",
    "# Create derived classes, \"Rectangle\" and \"Circle,\" that inherit from \"Shape\" and add\n",
    "# specific attributes like \"length\" and \"width\" for the \"Rectangle\" class and \"radius\" for\n",
    "# the \"Circle\" class."
   ]
  },
  {
   "cell_type": "code",
   "execution_count": 37,
   "metadata": {},
   "outputs": [
    {
     "name": "stdout",
     "output_type": "stream",
     "text": [
      "Colour: Blue, Border Width: 1.5, Length: 10.0, Width: 5.0\n",
      "Colour: Red, Border Width: 2.0, Radius: 7.0\n"
     ]
    }
   ],
   "source": [
    "class Shape:\n",
    "    def __init__(self, colour: str, border_width: float):\n",
    "        self.colour = colour\n",
    "        self.border_width = border_width\n",
    "\n",
    "    def display_info(self):\n",
    "        return f\"Colour: {self.colour}, Border Width: {self.border_width}\"\n",
    "\n",
    "class Rectangle(Shape):\n",
    "    def __init__(self, colour: str, border_width: float, length: float, width: float):\n",
    "        super().__init__(colour, border_width)\n",
    "        self.length = length\n",
    "        self.width = width\n",
    "\n",
    "    def display_info(self):\n",
    "        base_info = super().display_info()\n",
    "        return f\"{base_info}, Length: {self.length}, Width: {self.width}\"\n",
    "\n",
    "class Circle(Shape):\n",
    "    def __init__(self, colour: str, border_width: float, radius: float):\n",
    "        super().__init__(colour, border_width)\n",
    "        self.radius = radius\n",
    "\n",
    "    def display_info(self):\n",
    "        base_info = super().display_info()\n",
    "        return f\"{base_info}, Radius: {self.radius}\"\n",
    "\n",
    "# object\n",
    "rectangle = Rectangle(\"Blue\", 1.5, 10.0, 5.0)\n",
    "circle = Circle(\"Red\", 2.0, 7.0)\n",
    "\n",
    "print(rectangle.display_info())\n",
    "print(circle.display_info())\n"
   ]
  },
  {
   "cell_type": "code",
   "execution_count": 38,
   "metadata": {},
   "outputs": [],
   "source": [
    "# 8.Create a base class called \"Device\" with attributes like \"brand\" and \"model.\" Derive\n",
    "# two classes, \"Phone\" and \"Tablet,\" from \"Device.\" Add specific attributes like\n",
    "# \"screen_size\" for the \"Phone\" class and \"battery_capacity\" for the \"Tablet\" class.\n"
   ]
  },
  {
   "cell_type": "code",
   "execution_count": 44,
   "metadata": {},
   "outputs": [
    {
     "name": "stdout",
     "output_type": "stream",
     "text": [
      "brand Apple modeliPhone 14, screen_size: 6.1 inches\n",
      "brand Samsung modelGalaxy Tab S8, battery_capacity: 8000 mAh\n"
     ]
    }
   ],
   "source": [
    "class Device():\n",
    "    def __init__(self,brand,model):\n",
    "        self.brand=brand\n",
    "        self.model=model\n",
    "        \n",
    "    def display_info(self):\n",
    "        return f\"brand {self.brand} model{self.model}\"\n",
    "    \n",
    "    \n",
    "class Phone(Device):\n",
    "    def __init__(self, brand: str, model: str, screen_size: float):\n",
    "        super().__init__(brand, model)         \n",
    "        self.screen_size=screen_size\n",
    "        \n",
    "    def display_info(self):\n",
    "        base_info = super().display_info()\n",
    "        return f\"{base_info}, screen_size: {self.screen_size} inches\"\n",
    "    \n",
    "    \n",
    "class Tablet(Device):\n",
    "    def __init__(self, brand: str, model: str, battery_capacity: int):\n",
    "        super().__init__(brand, model)\n",
    "        self.battery_capacity=battery_capacity\n",
    "        \n",
    "    def display_info(self):\n",
    "        base_info = super().display_info()\n",
    "        return f\"{base_info}, battery_capacity: {self.battery_capacity} mAh\"\n",
    "    \n",
    "\n",
    "# object\n",
    "phone = Phone(\"Apple\", \"iPhone 14\", 6.1)\n",
    "tablet = Tablet(\"Samsung\", \"Galaxy Tab S8\", 8000)\n",
    "\n",
    "print(phone.display_info())\n",
    "print(tablet.display_info())        "
   ]
  },
  {
   "cell_type": "code",
   "execution_count": 45,
   "metadata": {},
   "outputs": [],
   "source": [
    "# 10. Create a base class called \"BankAccount\" with attributes like \"account_number\" and\n",
    "#\"balance.\" Derive two classes, \"SavingsAccount\" and \"CheckingAccount,\" from\n",
    "#\"BankAccount.\" Add specific methods like \"calculate_interest\" for the\n",
    "#\"SavingsAccount\" class and \"deduct_fees\" for the \"CheckingAccount\" class."
   ]
  },
  {
   "cell_type": "code",
   "execution_count": 47,
   "metadata": {},
   "outputs": [],
   "source": [
    "class BankAccount():\n",
    "    def __init__(self,account_number,balance):\n",
    "        self.account_number=account_number\n",
    "        self.balance=balance\n",
    "        \n",
    "    def display_info(self):\n",
    "        return f\"account_number {self.account_number} balance {self.balance}\"\n",
    "        \n",
    "class SavingAccount(BankAccount):\n",
    "    def __init__(self, account_number, balance,calculate_interest:float):\n",
    "        super().__init__(account_number, balance)\n",
    "        self.calculate_interest=calculate_interest\n",
    "        \n",
    "    def display_info(self):\n",
    "        base_info = super().display_info()\n",
    "        return f\"{base_info}, calculate_interest: {self.calculate_interest}\"\n",
    "    \n",
    "    \n",
    "class CheckingAccount(BankAccount):\n",
    "    def __init__(self, account_number, balance,deduct_fees:float):\n",
    "        super().__init__(account_number, balance)\n",
    "        self.deduct_fees=deduct_fees\n",
    "        \n",
    "    def display_info(self):\n",
    "        base_info = super().display_info()\n",
    "        return f\"{base_info}, deduct_fees: {self.deduct_fees}\"\n",
    "      "
   ]
  },
  {
   "cell_type": "code",
   "execution_count": 48,
   "metadata": {},
   "outputs": [],
   "source": [
    "savings = SavingAccount(\"SA12345\", 1000.0, 0.03)\n",
    "checking = CheckingAccount(\"CA12345\", 500.0, 10.0)"
   ]
  },
  {
   "cell_type": "code",
   "execution_count": 49,
   "metadata": {},
   "outputs": [
    {
     "name": "stdout",
     "output_type": "stream",
     "text": [
      "account_number SA12345 balance 1000.0, calculate_interest: 0.03\n",
      "account_number CA12345 balance 500.0, deduct_fees: 10.0\n"
     ]
    }
   ],
   "source": [
    "print(savings.display_info())\n",
    "print(checking.display_info())"
   ]
  }
 ],
 "metadata": {
  "kernelspec": {
   "display_name": "base",
   "language": "python",
   "name": "python3"
  },
  "language_info": {
   "codemirror_mode": {
    "name": "ipython",
    "version": 3
   },
   "file_extension": ".py",
   "mimetype": "text/x-python",
   "name": "python",
   "nbconvert_exporter": "python",
   "pygments_lexer": "ipython3",
   "version": "3.11.5"
  }
 },
 "nbformat": 4,
 "nbformat_minor": 2
}
